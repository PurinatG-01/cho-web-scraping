{
 "cells": [
  {
   "cell_type": "code",
   "execution_count": 13,
   "metadata": {},
   "outputs": [],
   "source": [
    "import requests\n",
    "from bs4 import BeautifulSoup\n",
    "\n",
    "URL = \"https://novel.dek-d.com\"\n",
    "page = requests.get(URL)\n",
    "soup = BeautifulSoup(page.content, \"html.parser\")\n"
   ]
  },
  {
   "cell_type": "code",
   "execution_count": 19,
   "metadata": {},
   "outputs": [],
   "source": [
    "metaList = soup.find_all('meta')"
   ]
  },
  {
   "cell_type": "code",
   "execution_count": 66,
   "metadata": {},
   "outputs": [
    {
     "name": "stdout",
     "output_type": "stream",
     "text": [
      "og:type | website\n",
      "og:site_name | นิยาย Dek-D\n",
      "og:image:width | 1200\n",
      "og:image:height | 600\n",
      "og:locale | th_TH\n",
      "og:url | https://novel.dek-d.com/\n",
      "og:title | นิยาย Dek-D อ่านนิยายฟรี คลังนิยายออนไลน์เยอะที่สุดจากนิยายเด็กดี\n",
      "og:description | คลังนวนิยายไทยที่ใหญ่ที่สุด นิยายแต่งจบแล้ว อ่านฟรีจบเรื่องเพียบ อัปเดตไวกว่า E-Book\n",
      "og:image | https://www0.dek-d.com/assets/writer/images/og_homepage_writer.jpg\n"
     ]
    }
   ],
   "source": [
    "for item in metaList:\n",
    "    keyList = [key for key in item.attrs.keys()]\n",
    "    if(isinstance(item.attrs.get('property'), str) and 'og' in item.attrs.get('property')): \n",
    "        print(f\"{item.attrs.get('property')} | {item.attrs.get('content')}\")\n",
    "    "
   ]
  }
 ],
 "metadata": {
  "interpreter": {
   "hash": "31f2aee4e71d21fbe5cf8b01ff0e069b9275f58929596ceb00d14d90e3e16cd6"
  },
  "kernelspec": {
   "display_name": "Python 3.8.9 64-bit",
   "language": "python",
   "name": "python3"
  },
  "language_info": {
   "codemirror_mode": {
    "name": "ipython",
    "version": 3
   },
   "file_extension": ".py",
   "mimetype": "text/x-python",
   "name": "python",
   "nbconvert_exporter": "python",
   "pygments_lexer": "ipython3",
   "version": "3.8.9"
  },
  "orig_nbformat": 4
 },
 "nbformat": 4,
 "nbformat_minor": 2
}
